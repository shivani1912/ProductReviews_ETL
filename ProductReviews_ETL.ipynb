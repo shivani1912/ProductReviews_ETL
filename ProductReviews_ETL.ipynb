{
  "nbformat": 4,
  "nbformat_minor": 0,
  "metadata": {
    "kernelspec": {
      "display_name": "Python 3",
      "language": "python",
      "name": "python3"
    },
    "language_info": {
      "codemirror_mode": {
        "name": "ipython",
        "version": 3
      },
      "file_extension": ".py",
      "mimetype": "text/x-python",
      "name": "python",
      "nbconvert_exporter": "python",
      "pygments_lexer": "ipython3",
      "version": "3.7.3"
    },
    "colab": {
      "name": "ProductReviews_ETL.ipynb",
      "provenance": [],
      "collapsed_sections": [],
      "include_colab_link": true
    }
  },
  "cells": [
    {
      "cell_type": "markdown",
      "metadata": {
        "id": "view-in-github",
        "colab_type": "text"
      },
      "source": [
        "<a href=\"https://colab.research.google.com/github/shivani1912/ProductReviews_ETL/blob/master/ProductReviews_ETL.ipynb\" target=\"_parent\"><img src=\"https://colab.research.google.com/assets/colab-badge.svg\" alt=\"Open In Colab\"/></a>"
      ]
    },
    {
      "cell_type": "markdown",
      "metadata": {
        "id": "cUoXr1tiiHkx",
        "colab_type": "text"
      },
      "source": [
        "### Objective: Upload previously scraped amazon reviews into MongoDB and analyze review scores using MapReduce\n",
        "\n",
        "- Create a MongoDB database called \"amazon\"."
      ]
    },
    {
      "cell_type": "code",
      "metadata": {
        "id": "Qt72WvHYiHkz",
        "colab_type": "code",
        "colab": {}
      },
      "source": [
        "import json\n",
        "from pymongo import MongoClient\n",
        "\n",
        "#connecting to the local host\n",
        "client = MongoClient('localhost', 27017)\n",
        "\n",
        "#create a database named amazon\n",
        "db = client['amazon']\n",
        "#create a collection named reviews\n",
        "collection_reviews = db['reviews']\n",
        "\n"
      ],
      "execution_count": null,
      "outputs": []
    },
    {
      "cell_type": "markdown",
      "metadata": {
        "id": "WiIBya_EiHlB",
        "colab_type": "text"
      },
      "source": [
        "- Read \"reviews_electronics.16.json\" and upload each review as a separate document to the collection \"reviews\" in the database \"amazon\"."
      ]
    },
    {
      "cell_type": "code",
      "metadata": {
        "id": "2CqC0VheiHlD",
        "colab_type": "code",
        "colab": {},
        "outputId": "ed97807d-2683-4d68-e7c6-174d3bb284b7"
      },
      "source": [
        "import json\n",
        "#import data from the mongo dump json to data\n",
        "data = [json.loads(line) for line in open('reviews_electronics.16.json', 'r')]\n",
        "\n",
        "#use insert_many() for inserting many documents\n",
        "collection_reviews.insert_many(data)\n",
        "#For QC\n",
        "for i in collection_reviews.find({}).limit(10):\n",
        "    print(i)\n",
        "\n",
        "#client.close()"
      ],
      "execution_count": null,
      "outputs": [
        {
          "output_type": "stream",
          "text": [
            "{'_id': ObjectId('5e4d016313b3adc6a3ec0eb1'), 'reviewerID': 'AKM1MP6P0OYPR', 'asin': '0132793040', 'reviewerName': 'Vicki Gibson \"momo4\"', 'helpful': [1, 1], 'reviewText': 'Corey Barker does a great job of explaining Blend Modes in this DVD. All of the Kelby training videos are great but pricey to buy individually. If you really want bang for your buck just subscribe to Kelby Training online.', 'overall': 5.0, 'summary': 'Very thorough', 'unixReviewTime': 1365811200, 'reviewTime': '04 13, 2013'}\n",
            "{'_id': ObjectId('5e4d016313b3adc6a3ec0eb2'), 'reviewerID': 'A2X8VX4DPMQFQQ', 'asin': 'B00E4KP4W6', 'reviewerName': 'lily68', 'helpful': [1, 1], 'reviewText': \"I can't believe I waited to long to switch to a glass screen protector.  I love this.  It feels and looks like there is no protector on.  It does show fingerprints, which I think is inevitable unless you use a matte finish screen protector, but they wipe right away. I would definitely recommend this! Easier to apply than the films too!\", 'overall': 5.0, 'summary': 'LOVE this screen protector!!', 'unixReviewTime': 1393459200, 'reviewTime': '02 27, 2014'}\n",
            "{'_id': ObjectId('5e4d016313b3adc6a3ec0eb3'), 'reviewerID': 'A1JEKX4D58576X', 'asin': 'B00E4KP4W6', 'reviewerName': 'Mara Milagros', 'helpful': [2, 2], 'reviewText': 'presentation of product is beautiful, everything is perfect! And my iPad screen seems to be really protected. I recommend it.', 'overall': 5.0, 'summary': 'excellent', 'unixReviewTime': 1394496000, 'reviewTime': '03 11, 2014'}\n",
            "{'_id': ObjectId('5e4d016313b3adc6a3ec0eb4'), 'reviewerID': 'ATM6RRB90D8DV', 'asin': 'B00E4KP4W6', 'reviewerName': 'Matthew D. Irmen \"Jazz Fan\"', 'helpful': [1, 2], 'reviewText': \"I bought this screen protector because I was unimpressed with the Otterbox Defender attached screen protector. If I have a retina display iPad, I want it to look like it has retina display, not a hazy iPad 2. So... I started researching and came across this tempered glass screen protector with promises of easy installation and beautiful retina quality display. I have to admit that I am very impressed with the picture quality and the ease of installation. Best of all, I was able to tear out the plastic screen protector from my Otterbox defender case and use the case without issue. So why did I give it 4 stars? Because of the home button sticker! The sticker is a lame plastic blob that sits on the home button and looks ugly. I thought little of it because I would bury it under the frame of the Otterbox case. Unfortunately it causes slight problems with the use of the home button. If I press for slightly too long (a second) it activates siri. Believe me it's not the end of the world and I love how the screen looks it's just a minor issue that justifies 4 stars.\", 'overall': 4.0, 'summary': 'Nice looking, easy to install glass screen protector that works beautifully with the Otterbox Defender.', 'unixReviewTime': 1393891200, 'reviewTime': '03 4, 2014'}\n",
            "{'_id': ObjectId('5e4d016313b3adc6a3ec0eb5'), 'reviewerID': 'A3QOYJ97A6OMX7', 'asin': 'B00E4KP4W6', 'reviewerName': 'pharmdaddyd', 'helpful': [1, 1], 'reviewText': 'this is a great screen protector for the price, not as expensive as others and just as good as name brands', 'overall': 5.0, 'summary': 'great for the price', 'unixReviewTime': 1388361600, 'reviewTime': '12 30, 2013'}\n",
            "{'_id': ObjectId('5e4d016313b3adc6a3ec0eb6'), 'reviewerID': 'AWO84NZ6VDYR2', 'asin': 'B00E4KP4W6', 'reviewerName': 'shalane rogillio', 'helpful': [0, 0], 'reviewText': 'I ordered two of these &#34;shatter proof&#34; protector for iPad s.  One arrived broken. Amazon refunded and ordered another one just like it.  Using the flat plastic tool to push bubbles out, the edge of this chipped.  This is definitely not up breakable and when it does break it is in big shards.  So from the 3 I have touched, only one is perfect.', 'overall': 1.0, 'summary': 'Not happy with this, would not recommend', 'unixReviewTime': 1404777600, 'reviewTime': '07 8, 2014'}\n",
            "{'_id': ObjectId('5e4d016313b3adc6a3ec0eb7'), 'reviewerID': 'A15ZEBTKX72NPB', 'asin': 'B00E4KP4W6', 'reviewerName': 'S. Marcus \"pdtpoet\"', 'helpful': [1, 2], 'reviewText': \"For some reasons, the clear film screens that other people like have short lives on my devices...they begin to curl or bubble or peel within a week or 2 of application, and look terrible.  The only film screen that stayed on my ipad blurred my view of the screen a little bit, which was a constant annoyance.  Putting a tempered glass screen on my iphone 5 solved all those problems so well that I replaced the plastic screen on my iPad 2 with this WOPUTUO tempered glass screen protector.  Application was easy and there were no bubbles in the viewing area at all!  The screen is wonderfully clear so I can finally see the full resolution of the iPad screen.  I'm only sorry I did not use the tempered glass screen when I first bought my iPad!\", 'overall': 5.0, 'summary': 'Far better than film screens for iPhone or iPad!', 'unixReviewTime': 1392249600, 'reviewTime': '02 13, 2014'}\n",
            "{'_id': ObjectId('5e4d016313b3adc6a3ec0eb8'), 'reviewerID': 'A2ZI014DO0LWEW', 'asin': 'B00E4KP4W6', 'reviewerName': 'SueinCa', 'helpful': [0, 0], 'reviewText': 'This was just what the doctor ordered for my broken screen and i could not afford replacement and this is next best thing and perfect.', 'overall': 5.0, 'summary': 'Right On', 'unixReviewTime': 1397174400, 'reviewTime': '04 11, 2014'}\n",
            "{'_id': ObjectId('5e4d016313b3adc6a3ec0eb9'), 'reviewerID': 'A3IN9CE5GG8VKR', 'asin': 'B00E4KP4W6', 'reviewerName': 'Tess Brown', 'helpful': [0, 0], 'reviewText': 'This is the best screen protector.  Very smooth feel! Looks incredible. Takes a little skill to put on but no air bubbles at all!', 'overall': 5.0, 'summary': 'Tempered Glass Screen Protector', 'unixReviewTime': 1399593600, 'reviewTime': '05 9, 2014'}\n",
            "{'_id': ObjectId('5e4d016313b3adc6a3ec0eba'), 'reviewerID': 'A1U9ZR7HQ5EZ6L', 'asin': 'B00E4KP4W6', 'reviewerName': 'Thinker623', 'helpful': [1, 1], 'reviewText': 'Great glass cover for IPad.  I had been using ones that are top screen protector made of plastic.  I dropped my IpadAnd had a dent in protector.  I heard about these tempered glass protectors from my son.  They priced at $60.  This one was much cheaper and works great.  Cannot believe the quality difference between glass and the plastic.', 'overall': 5.0, 'summary': 'Great glass cover for IPad.', 'unixReviewTime': 1391126400, 'reviewTime': '01 31, 2014'}\n"
          ],
          "name": "stdout"
        }
      ]
    },
    {
      "cell_type": "markdown",
      "metadata": {
        "id": "_nkQ8YC6iHlP",
        "colab_type": "text"
      },
      "source": [
        "#### Part 1\n",
        "- Use MongoDB's map reduce function to build a new collection \"avg_scores\" that averages review scores by product (\"asin\"). Print the first 100 entries of \"avg_scores\" to screen.\n"
      ]
    },
    {
      "cell_type": "code",
      "metadata": {
        "id": "RCKbUtboiHlR",
        "colab_type": "code",
        "colab": {},
        "outputId": "ceb37e75-fce7-4049-e8c4-4bd7112a7aa0"
      },
      "source": [
        "from bson.code import Code\n",
        "\n",
        "#Create the map function to obtain overall scores\n",
        "map = Code('''function(){emit(this.asin,this.overall);}''')\n",
        "#Reduce it to asin level and compute average\n",
        "reduce = Code('''function(key,values){return Array.avg(values)}''')\n",
        "\n",
        "#final map reduce to get desireed results\n",
        "result1 = db.reviews.map_reduce(map, reduce, \"avg_scores\")\n",
        "\n",
        "#print first 100 rows\n",
        "for doc in result1.find().limit(100):\n",
        "    print(doc)"
      ],
      "execution_count": null,
      "outputs": [
        {
          "output_type": "stream",
          "text": [
            "{'_id': '0132793040', 'value': 5.0}\n",
            "{'_id': 'B00E4KP4W6', 'value': 4.545454545454546}\n",
            "{'_id': 'B00E4KP8VI', 'value': 5.0}\n",
            "{'_id': 'B00E4KPMC8', 'value': 2.0}\n",
            "{'_id': 'B00E4KQ5C4', 'value': 5.0}\n",
            "{'_id': 'B00E4KQ9GG', 'value': 3.2857142857142856}\n",
            "{'_id': 'B00E4KQ9K2', 'value': 5.0}\n",
            "{'_id': 'B00E4KQD4E', 'value': 4.0}\n",
            "{'_id': 'B00E4KZBX8', 'value': 4.0}\n",
            "{'_id': 'B00E4KZDJ0', 'value': 5.0}\n",
            "{'_id': 'B00E4L35DA', 'value': 4.0}\n",
            "{'_id': 'B00E4L3N9Q', 'value': 4.0}\n",
            "{'_id': 'B00E4L48EA', 'value': 5.0}\n",
            "{'_id': 'B00E4L7FLI', 'value': 1.0}\n",
            "{'_id': 'B00E4L7TS2', 'value': 4.0}\n",
            "{'_id': 'B00E4LAL82', 'value': 3.0}\n",
            "{'_id': 'B00E4LBZZK', 'value': 5.0}\n",
            "{'_id': 'B00E4LF2Z4', 'value': 4.333333333333333}\n",
            "{'_id': 'B00E4LFP0G', 'value': 4.444444444444445}\n",
            "{'_id': 'B00E4LFWWW', 'value': 4.4}\n",
            "{'_id': 'B00E4LGTVU', 'value': 4.173537012873982}\n",
            "{'_id': 'B00E4LGTXS', 'value': 3.923076923076923}\n",
            "{'_id': 'B00E4LGVYA', 'value': 3.272727272727273}\n",
            "{'_id': 'B00E4LGWLW', 'value': 3.5}\n",
            "{'_id': 'B00E4LGXL6', 'value': 5.0}\n",
            "{'_id': 'B00E4LGY88', 'value': 3.8421052631578947}\n",
            "{'_id': 'B00E4LI86O', 'value': 1.0}\n",
            "{'_id': 'B00E4LJ8VI', 'value': 1.6666666666666667}\n",
            "{'_id': 'B00E4LQ9B0', 'value': 1.0}\n",
            "{'_id': 'B00E4M2K08', 'value': 5.0}\n",
            "{'_id': 'B00E4M3KW0', 'value': 4.0}\n",
            "{'_id': 'B00E4M9H40', 'value': 3.3333333333333335}\n",
            "{'_id': 'B00E4MC3LO', 'value': 2.0}\n",
            "{'_id': 'B00E4MHBOI', 'value': 3.0}\n",
            "{'_id': 'B00E4ML766', 'value': 5.0}\n",
            "{'_id': 'B00E4MNXYA', 'value': 5.0}\n",
            "{'_id': 'B00E4MQO8C', 'value': 4.933333333333334}\n",
            "{'_id': 'B00E4MQODW', 'value': 2.6666666666666665}\n",
            "{'_id': 'B00E4MQOE6', 'value': 4.611111111111111}\n",
            "{'_id': 'B00E4MT07Y', 'value': 1.6}\n",
            "{'_id': 'B00E4MVHTI', 'value': 3.9}\n",
            "{'_id': 'B00E4MYDTY', 'value': 4.538461538461538}\n",
            "{'_id': 'B00E4NC912', 'value': 5.0}\n",
            "{'_id': 'B00E4O3CD0', 'value': 4.0}\n",
            "{'_id': 'B00E4O7EO8', 'value': 4.2}\n",
            "{'_id': 'B00E4OCCJK', 'value': 5.0}\n",
            "{'_id': 'B00E4OCECU', 'value': 3.0}\n",
            "{'_id': 'B00E4OHBNM', 'value': 4.0}\n",
            "{'_id': 'B00E4OHRJ0', 'value': 4.0}\n",
            "{'_id': 'B00E4OI5H8', 'value': 5.0}\n",
            "{'_id': 'B00E4OKJKY', 'value': 5.0}\n",
            "{'_id': 'B00E4OKJUE', 'value': 1.0}\n",
            "{'_id': 'B00E4OKZA8', 'value': 5.0}\n",
            "{'_id': 'B00E4ON1YK', 'value': 5.0}\n",
            "{'_id': 'B00E4OSIO8', 'value': 5.0}\n",
            "{'_id': 'B00E4PM406', 'value': 4.0}\n",
            "{'_id': 'B00E4PMDIO', 'value': 5.0}\n",
            "{'_id': 'B00E4POW42', 'value': 5.0}\n",
            "{'_id': 'B00E4PP8PY', 'value': 4.0}\n",
            "{'_id': 'B00E4QD7D8', 'value': 4.0}\n",
            "{'_id': 'B00E4QM3TC', 'value': 1.0}\n",
            "{'_id': 'B00E4QX5J4', 'value': 2.0}\n",
            "{'_id': 'B00E4RD4VC', 'value': 4.375}\n",
            "{'_id': 'B00E4RIYPI', 'value': 4.5}\n",
            "{'_id': 'B00E4RKKVY', 'value': 4.0}\n",
            "{'_id': 'B00E4RS3DG', 'value': 4.5}\n",
            "{'_id': 'B00E4RUZGO', 'value': 2.0}\n",
            "{'_id': 'B00E4RZOQ0', 'value': 5.0}\n",
            "{'_id': 'B00E4RZQM2', 'value': 2.6}\n",
            "{'_id': 'B00E4RZU00', 'value': 4.0}\n",
            "{'_id': 'B00E4RZV6S', 'value': 3.75}\n",
            "{'_id': 'B00E4RZW44', 'value': 3.0}\n",
            "{'_id': 'B00E4RZYMO', 'value': 1.0}\n",
            "{'_id': 'B00E4S5BQ2', 'value': 5.0}\n",
            "{'_id': 'B00E4SDU0Q', 'value': 1.0}\n",
            "{'_id': 'B00E4SEBAY', 'value': 5.0}\n",
            "{'_id': 'B00E4SPPHW', 'value': 3.6666666666666665}\n",
            "{'_id': 'B00E4T58NC', 'value': 2.676470588235294}\n",
            "{'_id': 'B00E4T699E', 'value': 3.0}\n",
            "{'_id': 'B00E4T69DK', 'value': 5.0}\n",
            "{'_id': 'B00E4T6MWI', 'value': 2.0}\n",
            "{'_id': 'B00E4T7GP0', 'value': 2.0}\n",
            "{'_id': 'B00E4T7VOG', 'value': 5.0}\n",
            "{'_id': 'B00E4T8XZC', 'value': 4.666666666666667}\n",
            "{'_id': 'B00E4TADN2', 'value': 3.0}\n",
            "{'_id': 'B00E4TASKK', 'value': 3.5}\n",
            "{'_id': 'B00E4TBST0', 'value': 5.0}\n",
            "{'_id': 'B00E4TEKC2', 'value': 5.0}\n",
            "{'_id': 'B00E4TKYOU', 'value': 5.0}\n",
            "{'_id': 'B00E4TN3MA', 'value': 1.0}\n",
            "{'_id': 'B00E4TOWR0', 'value': 3.0}\n",
            "{'_id': 'B00E4TV36I', 'value': 5.0}\n",
            "{'_id': 'B00E4TWMWC', 'value': 1.0}\n",
            "{'_id': 'B00E4U83B0', 'value': 3.1333333333333333}\n",
            "{'_id': 'B00E4UA7SW', 'value': 4.571428571428571}\n",
            "{'_id': 'B00E4UD9TQ', 'value': 4.666666666666667}\n",
            "{'_id': 'B00E4UGIVC', 'value': 3.0}\n",
            "{'_id': 'B00E4UGJV6', 'value': 4.0}\n",
            "{'_id': 'B00E4UIU1I', 'value': 5.0}\n",
            "{'_id': 'B00E4UVVYG', 'value': 5.0}\n"
          ],
          "name": "stdout"
        }
      ]
    },
    {
      "cell_type": "code",
      "metadata": {
        "id": "xVyMnOFriHlX",
        "colab_type": "code",
        "colab": {},
        "outputId": "a4d15c31-0978-47fb-88f7-d1d949e6ef0b"
      },
      "source": [
        "import os\n",
        "os.getcwd()"
      ],
      "execution_count": null,
      "outputs": [
        {
          "output_type": "execute_result",
          "data": {
            "text/plain": [
              "'C:\\\\Users\\\\shali\\\\OneDrive - University of California, Davis\\\\Documents\\\\3 WQ Data Design\\\\Assignments'"
            ]
          },
          "metadata": {
            "tags": []
          },
          "execution_count": 27
        }
      ]
    },
    {
      "cell_type": "markdown",
      "metadata": {
        "id": "6mxCLYO0iHli",
        "colab_type": "text"
      },
      "source": [
        "\n",
        "- Use MongoDB's map reduce function to build a new collection \"weighted_avg_scores\" that averages review scores by product<br> (\"asin\"), weighted by the number of helpful votes (The base weight is 1 and for every additional helpful vote add 1 to weight.<br> e.g. a \"[3, 5]\" value on \"helpful\" column should use 3 + 1 = 4 as weight,<br> 3 being the additional votes and 1 being the base weight).<br> Print the first 100 entries of \"weighted_avg_scores\" to screen."
      ]
    },
    {
      "cell_type": "code",
      "metadata": {
        "id": "FFbBf0ShiHll",
        "colab_type": "code",
        "colab": {},
        "outputId": "6ddeee2e-3871-48c4-e959-2e96865ff4a4"
      },
      "source": [
        "from bson.code import Code\n",
        "#Map function to get compute weight and multiply it with review\n",
        "map = Code('''function(){\n",
        "                            var val =this.helpful[0] + 1;\n",
        "                            var wt_value ={ wt: val,\n",
        "                                         wt_value: this.overall * val,\n",
        "                                        };\n",
        "                            emit( this.asin, wt_value );\n",
        "                            }''')\n",
        "#compute weighted average at asin level\n",
        "reduce = Code('''function(key, value) {\n",
        "                     reducedVal = { wt: 0, wt_value: 0 };\n",
        "\n",
        "                     for (var idx = 0; idx < value.length; idx++) {\n",
        "                         reducedVal.wt += value[idx].wt;\n",
        "                         reducedVal.wt_value += value[idx].wt_value;\n",
        "                     }\n",
        "\n",
        "                     return reducedVal;\n",
        "                  };''')\n",
        "\n",
        "finalize= Code('''function (key, reducedVal) {\n",
        "\n",
        "                       reducedVal.wt_avg = reducedVal.wt_value/reducedVal.wt;\n",
        "\n",
        "                       return reducedVal;\n",
        "\n",
        "                    };''')\n",
        "\n",
        "#final map reduce function\n",
        "result2 = db.reviews.map_reduce(map, reduce, \"weighted_avg_scores\",finalize=finalize)\n",
        "\n",
        "#print first 100 rows\n",
        "for doc in result2.find().limit(100):\n",
        "    print(doc)"
      ],
      "execution_count": null,
      "outputs": [
        {
          "output_type": "stream",
          "text": [
            "{'_id': '0132793040', 'value': {'wt': 8.0, 'wt_value': 40.0, 'wt_avg': 5.0}}\n",
            "{'_id': 'B00E4KP4W6', 'value': {'wt': 76.0, 'wt_value': 356.0, 'wt_avg': 4.684210526315789}}\n",
            "{'_id': 'B00E4KP8VI', 'value': {'wt': 4.0, 'wt_value': 20.0, 'wt_avg': 5.0}}\n",
            "{'_id': 'B00E4KPMC8', 'value': {'wt': 24.0, 'wt_value': 48.0, 'wt_avg': 2.0}}\n",
            "{'_id': 'B00E4KQ5C4', 'value': {'wt': 8.0, 'wt_value': 40.0, 'wt_avg': 5.0}}\n",
            "{'_id': 'B00E4KQ9GG', 'value': {'wt': 64.0, 'wt_value': 236.0, 'wt_avg': 3.6875}}\n",
            "{'_id': 'B00E4KQ9K2', 'value': {'wt': 52.0, 'wt_value': 260.0, 'wt_avg': 5.0}}\n",
            "{'_id': 'B00E4KQD4E', 'value': {'wt': 4.0, 'wt_value': 16.0, 'wt_avg': 4.0}}\n",
            "{'_id': 'B00E4KZBX8', 'value': {'wt': 8.0, 'wt_value': 32.0, 'wt_avg': 4.0}}\n",
            "{'_id': 'B00E4KZDJ0', 'value': {'wt': 4.0, 'wt_value': 20.0, 'wt_avg': 5.0}}\n",
            "{'_id': 'B00E4L35DA', 'value': {'wt': 48.0, 'wt_value': 144.0, 'wt_avg': 3.0}}\n",
            "{'_id': 'B00E4L3N9Q', 'value': {'wt': 4.0, 'wt_value': 16.0, 'wt_avg': 4.0}}\n",
            "{'_id': 'B00E4L48EA', 'value': {'wt': 4.0, 'wt_value': 20.0, 'wt_avg': 5.0}}\n",
            "{'_id': 'B00E4L7FLI', 'value': {'wt': 4.0, 'wt_value': 4.0, 'wt_avg': 1.0}}\n",
            "{'_id': 'B00E4L7TS2', 'value': {'wt': 4.0, 'wt_value': 16.0, 'wt_avg': 4.0}}\n",
            "{'_id': 'B00E4LAL82', 'value': {'wt': 12.0, 'wt_value': 36.0, 'wt_avg': 3.0}}\n",
            "{'_id': 'B00E4LBZZK', 'value': {'wt': 8.0, 'wt_value': 40.0, 'wt_avg': 5.0}}\n",
            "{'_id': 'B00E4LF2Z4', 'value': {'wt': 52.0, 'wt_value': 216.0, 'wt_avg': 4.153846153846154}}\n",
            "{'_id': 'B00E4LFP0G', 'value': {'wt': 92.0, 'wt_value': 408.0, 'wt_avg': 4.434782608695652}}\n",
            "{'_id': 'B00E4LFWWW', 'value': {'wt': 20.0, 'wt_value': 88.0, 'wt_avg': 4.4}}\n",
            "{'_id': 'B00E4LGTVU', 'value': {'wt': 2480.0, 'wt_value': 9688.0, 'wt_avg': 3.9064516129032256}}\n",
            "{'_id': 'B00E4LGTXS', 'value': {'wt': 128.0, 'wt_value': 512.0, 'wt_avg': 4.0}}\n",
            "{'_id': 'B00E4LGVYA', 'value': {'wt': 80.0, 'wt_value': 304.0, 'wt_avg': 3.8}}\n",
            "{'_id': 'B00E4LGWLW', 'value': {'wt': 44.0, 'wt_value': 168.0, 'wt_avg': 3.8181818181818183}}\n",
            "{'_id': 'B00E4LGXL6', 'value': {'wt': 8.0, 'wt_value': 40.0, 'wt_avg': 5.0}}\n",
            "{'_id': 'B00E4LGY88', 'value': {'wt': 628.0, 'wt_value': 2668.0, 'wt_avg': 4.248407643312102}}\n",
            "{'_id': 'B00E4LI86O', 'value': {'wt': 4.0, 'wt_value': 4.0, 'wt_avg': 1.0}}\n",
            "{'_id': 'B00E4LJ8VI', 'value': {'wt': 24.0, 'wt_value': 40.0, 'wt_avg': 1.6666666666666667}}\n",
            "{'_id': 'B00E4LQ9B0', 'value': {'wt': 4.0, 'wt_value': 4.0, 'wt_avg': 1.0}}\n",
            "{'_id': 'B00E4M2K08', 'value': {'wt': 4.0, 'wt_value': 20.0, 'wt_avg': 5.0}}\n",
            "{'_id': 'B00E4M3KW0', 'value': {'wt': 4.0, 'wt_value': 16.0, 'wt_avg': 4.0}}\n",
            "{'_id': 'B00E4M9H40', 'value': {'wt': 16.0, 'wt_value': 52.0, 'wt_avg': 3.25}}\n",
            "{'_id': 'B00E4MC3LO', 'value': {'wt': 4.0, 'wt_value': 8.0, 'wt_avg': 2.0}}\n",
            "{'_id': 'B00E4MHBOI', 'value': {'wt': 4.0, 'wt_value': 12.0, 'wt_avg': 3.0}}\n",
            "{'_id': 'B00E4ML766', 'value': {'wt': 4.0, 'wt_value': 20.0, 'wt_avg': 5.0}}\n",
            "{'_id': 'B00E4MNXYA', 'value': {'wt': 24.0, 'wt_value': 120.0, 'wt_avg': 5.0}}\n",
            "{'_id': 'B00E4MQO8C', 'value': {'wt': 184.0, 'wt_value': 916.0, 'wt_avg': 4.978260869565218}}\n",
            "{'_id': 'B00E4MQODW', 'value': {'wt': 68.0, 'wt_value': 180.0, 'wt_avg': 2.6470588235294117}}\n",
            "{'_id': 'B00E4MQOE6', 'value': {'wt': 172.0, 'wt_value': 804.0, 'wt_avg': 4.674418604651163}}\n",
            "{'_id': 'B00E4MT07Y', 'value': {'wt': 64.0, 'wt_value': 84.0, 'wt_avg': 1.3125}}\n",
            "{'_id': 'B00E4MVHTI', 'value': {'wt': 44.0, 'wt_value': 176.0, 'wt_avg': 4.0}}\n",
            "{'_id': 'B00E4MYDTY', 'value': {'wt': 120.0, 'wt_value': 496.0, 'wt_avg': 4.133333333333334}}\n",
            "{'_id': 'B00E4NC912', 'value': {'wt': 8.0, 'wt_value': 40.0, 'wt_avg': 5.0}}\n",
            "{'_id': 'B00E4O3CD0', 'value': {'wt': 4.0, 'wt_value': 16.0, 'wt_avg': 4.0}}\n",
            "{'_id': 'B00E4O7EO8', 'value': {'wt': 52.0, 'wt_value': 220.0, 'wt_avg': 4.230769230769231}}\n",
            "{'_id': 'B00E4OCCJK', 'value': {'wt': 8.0, 'wt_value': 40.0, 'wt_avg': 5.0}}\n",
            "{'_id': 'B00E4OCECU', 'value': {'wt': 16.0, 'wt_value': 56.0, 'wt_avg': 3.5}}\n",
            "{'_id': 'B00E4OHBNM', 'value': {'wt': 4.0, 'wt_value': 16.0, 'wt_avg': 4.0}}\n",
            "{'_id': 'B00E4OHRJ0', 'value': {'wt': 4.0, 'wt_value': 16.0, 'wt_avg': 4.0}}\n",
            "{'_id': 'B00E4OI5H8', 'value': {'wt': 4.0, 'wt_value': 20.0, 'wt_avg': 5.0}}\n",
            "{'_id': 'B00E4OKJKY', 'value': {'wt': 4.0, 'wt_value': 20.0, 'wt_avg': 5.0}}\n",
            "{'_id': 'B00E4OKJUE', 'value': {'wt': 4.0, 'wt_value': 4.0, 'wt_avg': 1.0}}\n",
            "{'_id': 'B00E4OKZA8', 'value': {'wt': 4.0, 'wt_value': 20.0, 'wt_avg': 5.0}}\n",
            "{'_id': 'B00E4ON1YK', 'value': {'wt': 4.0, 'wt_value': 20.0, 'wt_avg': 5.0}}\n",
            "{'_id': 'B00E4OSIO8', 'value': {'wt': 8.0, 'wt_value': 40.0, 'wt_avg': 5.0}}\n",
            "{'_id': 'B00E4PM406', 'value': {'wt': 4.0, 'wt_value': 16.0, 'wt_avg': 4.0}}\n",
            "{'_id': 'B00E4PMDIO', 'value': {'wt': 4.0, 'wt_value': 20.0, 'wt_avg': 5.0}}\n",
            "{'_id': 'B00E4POW42', 'value': {'wt': 4.0, 'wt_value': 20.0, 'wt_avg': 5.0}}\n",
            "{'_id': 'B00E4PP8PY', 'value': {'wt': 4.0, 'wt_value': 16.0, 'wt_avg': 4.0}}\n",
            "{'_id': 'B00E4QD7D8', 'value': {'wt': 4.0, 'wt_value': 16.0, 'wt_avg': 4.0}}\n",
            "{'_id': 'B00E4QM3TC', 'value': {'wt': 8.0, 'wt_value': 8.0, 'wt_avg': 1.0}}\n",
            "{'_id': 'B00E4QX5J4', 'value': {'wt': 4.0, 'wt_value': 8.0, 'wt_avg': 2.0}}\n",
            "{'_id': 'B00E4RD4VC', 'value': {'wt': 88.0, 'wt_value': 400.0, 'wt_avg': 4.545454545454546}}\n",
            "{'_id': 'B00E4RIYPI', 'value': {'wt': 12.0, 'wt_value': 52.0, 'wt_avg': 4.333333333333333}}\n",
            "{'_id': 'B00E4RKKVY', 'value': {'wt': 12.0, 'wt_value': 48.0, 'wt_avg': 4.0}}\n",
            "{'_id': 'B00E4RS3DG', 'value': {'wt': 8.0, 'wt_value': 36.0, 'wt_avg': 4.5}}\n",
            "{'_id': 'B00E4RUZGO', 'value': {'wt': 68.0, 'wt_value': 156.0, 'wt_avg': 2.2941176470588234}}\n",
            "{'_id': 'B00E4RZOQ0', 'value': {'wt': 4.0, 'wt_value': 20.0, 'wt_avg': 5.0}}\n",
            "{'_id': 'B00E4RZQM2', 'value': {'wt': 28.0, 'wt_value': 68.0, 'wt_avg': 2.4285714285714284}}\n",
            "{'_id': 'B00E4RZU00', 'value': {'wt': 56.0, 'wt_value': 212.0, 'wt_avg': 3.7857142857142856}}\n",
            "{'_id': 'B00E4RZV6S', 'value': {'wt': 16.0, 'wt_value': 60.0, 'wt_avg': 3.75}}\n",
            "{'_id': 'B00E4RZW44', 'value': {'wt': 8.0, 'wt_value': 24.0, 'wt_avg': 3.0}}\n",
            "{'_id': 'B00E4RZYMO', 'value': {'wt': 20.0, 'wt_value': 20.0, 'wt_avg': 1.0}}\n",
            "{'_id': 'B00E4S5BQ2', 'value': {'wt': 12.0, 'wt_value': 60.0, 'wt_avg': 5.0}}\n",
            "{'_id': 'B00E4SDU0Q', 'value': {'wt': 4.0, 'wt_value': 4.0, 'wt_avg': 1.0}}\n",
            "{'_id': 'B00E4SEBAY', 'value': {'wt': 4.0, 'wt_value': 20.0, 'wt_avg': 5.0}}\n",
            "{'_id': 'B00E4SPPHW', 'value': {'wt': 116.0, 'wt_value': 312.0, 'wt_avg': 2.689655172413793}}\n",
            "{'_id': 'B00E4T58NC', 'value': {'wt': 660.0, 'wt_value': 2116.0, 'wt_avg': 3.206060606060606}}\n",
            "{'_id': 'B00E4T699E', 'value': {'wt': 4.0, 'wt_value': 12.0, 'wt_avg': 3.0}}\n",
            "{'_id': 'B00E4T69DK', 'value': {'wt': 4.0, 'wt_value': 20.0, 'wt_avg': 5.0}}\n",
            "{'_id': 'B00E4T6MWI', 'value': {'wt': 4.0, 'wt_value': 8.0, 'wt_avg': 2.0}}\n",
            "{'_id': 'B00E4T7GP0', 'value': {'wt': 4.0, 'wt_value': 8.0, 'wt_avg': 2.0}}\n",
            "{'_id': 'B00E4T7VOG', 'value': {'wt': 16.0, 'wt_value': 80.0, 'wt_avg': 5.0}}\n",
            "{'_id': 'B00E4T8XZC', 'value': {'wt': 96.0, 'wt_value': 456.0, 'wt_avg': 4.75}}\n",
            "{'_id': 'B00E4TADN2', 'value': {'wt': 4.0, 'wt_value': 12.0, 'wt_avg': 3.0}}\n",
            "{'_id': 'B00E4TASKK', 'value': {'wt': 8.0, 'wt_value': 28.0, 'wt_avg': 3.5}}\n",
            "{'_id': 'B00E4TBST0', 'value': {'wt': 4.0, 'wt_value': 20.0, 'wt_avg': 5.0}}\n",
            "{'_id': 'B00E4TEKC2', 'value': {'wt': 4.0, 'wt_value': 20.0, 'wt_avg': 5.0}}\n",
            "{'_id': 'B00E4TKYOU', 'value': {'wt': 4.0, 'wt_value': 20.0, 'wt_avg': 5.0}}\n",
            "{'_id': 'B00E4TN3MA', 'value': {'wt': 4.0, 'wt_value': 4.0, 'wt_avg': 1.0}}\n",
            "{'_id': 'B00E4TOWR0', 'value': {'wt': 16.0, 'wt_value': 48.0, 'wt_avg': 3.0}}\n",
            "{'_id': 'B00E4TV36I', 'value': {'wt': 20.0, 'wt_value': 100.0, 'wt_avg': 5.0}}\n",
            "{'_id': 'B00E4TWMWC', 'value': {'wt': 4.0, 'wt_value': 4.0, 'wt_avg': 1.0}}\n",
            "{'_id': 'B00E4U83B0', 'value': {'wt': 120.0, 'wt_value': 324.0, 'wt_avg': 2.7}}\n",
            "{'_id': 'B00E4UA7SW', 'value': {'wt': 52.0, 'wt_value': 248.0, 'wt_avg': 4.769230769230769}}\n",
            "{'_id': 'B00E4UD9TQ', 'value': {'wt': 12.0, 'wt_value': 56.0, 'wt_avg': 4.666666666666667}}\n",
            "{'_id': 'B00E4UGIVC', 'value': {'wt': 4.0, 'wt_value': 12.0, 'wt_avg': 3.0}}\n",
            "{'_id': 'B00E4UGJV6', 'value': {'wt': 4.0, 'wt_value': 16.0, 'wt_avg': 4.0}}\n",
            "{'_id': 'B00E4UIU1I', 'value': {'wt': 8.0, 'wt_value': 40.0, 'wt_avg': 5.0}}\n",
            "{'_id': 'B00E4UVVYG', 'value': {'wt': 4.0, 'wt_value': 20.0, 'wt_avg': 5.0}}\n"
          ],
          "name": "stdout"
        }
      ]
    },
    {
      "cell_type": "code",
      "metadata": {
        "id": "htvGnIm6iHlt",
        "colab_type": "code",
        "colab": {}
      },
      "source": [
        "client.close()"
      ],
      "execution_count": null,
      "outputs": []
    }
  ]
}